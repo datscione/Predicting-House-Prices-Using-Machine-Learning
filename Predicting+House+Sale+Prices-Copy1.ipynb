{
 "cells": [
  {
   "cell_type": "markdown",
   "metadata": {},
   "source": [
    "We'll use machine learning to predict the sale prices of houses in Ames, Iowa using data collected from 2006 to 2010."
   ]
  },
  {
   "cell_type": "code",
   "execution_count": 1,
   "metadata": {
    "collapsed": true
   },
   "outputs": [],
   "source": [
    "import pandas as pd\n",
    "import matplotlib.pyplot as plt\n",
    "import numpy as np\n",
    "from sklearn.neighbors import KNeighborsRegressor\n",
    "from sklearn.metrics import mean_squared_error\n",
    "from sklearn import linear_model\n",
    "from sklearn.linear_model import LinearRegression\n",
    "from sklearn.model_selection import KFold\n",
    "from sklearn.ensemble import RandomForestRegressor"
   ]
  },
  {
   "cell_type": "code",
   "execution_count": 2,
   "metadata": {
    "collapsed": true
   },
   "outputs": [],
   "source": [
    "Housing = pd.read_csv('AmesHousing.tsv', sep='\\t')"
   ]
  },
  {
   "cell_type": "code",
   "execution_count": 3,
   "metadata": {
    "collapsed": true
   },
   "outputs": [],
   "source": [
    "def transform_features(Housing):\n",
    "    return Housing\n",
    "\n",
    "def select_features(Housing):\n",
    "    return Housing[['Gr Liv Area', 'SalePrice']]"
   ]
  },
  {
   "cell_type": "code",
   "execution_count": 4,
   "metadata": {
    "collapsed": false
   },
   "outputs": [
    {
     "name": "stdout",
     "output_type": "stream",
     "text": [
      "56034.362001412796\n",
      "57088.25161263909\n"
     ]
    }
   ],
   "source": [
    "def train_and_test(data):\n",
    "    train = data[:1460]\n",
    "    test = data[1460:]\n",
    "    num_train = train.select_dtypes(include=['float', 'int'])\n",
    "    num_test = test.select_dtypes(include=['float', 'int'])\n",
    "    target = 'SalePrice'\n",
    "    features = num_train.columns.drop([target])\n",
    "\n",
    "    model = linear_model.LinearRegression()\n",
    "    model.fit(num_train[features], num_train[target])\n",
    "\n",
    "    train_predictions = model.predict(num_train[features])\n",
    "    test_predictions = model.predict(test[features])\n",
    "\n",
    "    train_mse = mean_squared_error(train_predictions, train[target])\n",
    "    test_mse = mean_squared_error(test_predictions, test[target])\n",
    "\n",
    "    train_rmse = np.sqrt(train_mse)\n",
    "    test_rmse = np.sqrt(test_mse)\n",
    "    print(train_rmse)\n",
    "    print(test_rmse)\n",
    "\n",
    "    \n",
    "transformed_df = transform_features(Housing)\n",
    "filtered_df = select_features(transformed_df)\n",
    "rmse = train_and_test(filtered_df)"
   ]
  },
  {
   "cell_type": "markdown",
   "metadata": {},
   "source": [
    "Let's see the number of missing values and drop any columns with more than 5% missing values."
   ]
  },
  {
   "cell_type": "code",
   "execution_count": 5,
   "metadata": {
    "collapsed": false
   },
   "outputs": [
    {
     "data": {
      "text/plain": [
       "Garage Type       157\n",
       "Garage Yr Blt     159\n",
       "Garage Finish     159\n",
       "Garage Qual       159\n",
       "Garage Cond       159\n",
       "Lot Frontage      490\n",
       "Fireplace Qu     1422\n",
       "Fence            2358\n",
       "Alley            2732\n",
       "Misc Feature     2824\n",
       "Pool QC          2917\n",
       "dtype: int64"
      ]
     },
     "execution_count": 5,
     "metadata": {},
     "output_type": "execute_result"
    }
   ],
   "source": [
    "house_null_counts = Housing.isnull().sum()\n",
    "drop_null_house = house_null_counts[(house_null_counts > len(Housing)/20) & (house_null_counts > 0)].sort_values(ascending=True)\n",
    "drop_null_house"
   ]
  },
  {
   "cell_type": "markdown",
   "metadata": {
    "collapsed": true
   },
   "source": [
    "We will fill in the missing values that are 5% or less of the missing values of the columns with the mode of the column."
   ]
  },
  {
   "cell_type": "code",
   "execution_count": 6,
   "metadata": {
    "collapsed": false
   },
   "outputs": [
    {
     "data": {
      "text/plain": [
       "0"
      ]
     },
     "execution_count": 6,
     "metadata": {},
     "output_type": "execute_result"
    }
   ],
   "source": [
    "drop_null_house = drop_null_house.fillna(drop_null_house.mode)\n",
    "drop_null_house.isnull().sum()"
   ]
  },
  {
   "cell_type": "code",
   "execution_count": 7,
   "metadata": {
    "collapsed": false
   },
   "outputs": [
    {
     "data": {
      "text/plain": [
       "Index(['Order', 'PID', 'MS SubClass', 'MS Zoning', 'Lot Frontage', 'Lot Area',\n",
       "       'Street', 'Alley', 'Lot Shape', 'Land Contour', 'Utilities',\n",
       "       'Lot Config', 'Land Slope', 'Neighborhood', 'Condition 1',\n",
       "       'Condition 2', 'Bldg Type', 'House Style', 'Overall Qual',\n",
       "       'Overall Cond', 'Year Built', 'Year Remod/Add', 'Roof Style',\n",
       "       'Roof Matl', 'Exterior 1st', 'Exterior 2nd', 'Mas Vnr Type',\n",
       "       'Mas Vnr Area', 'Exter Qual', 'Exter Cond', 'Foundation', 'Bsmt Qual',\n",
       "       'Bsmt Cond', 'Bsmt Exposure', 'BsmtFin Type 1', 'BsmtFin SF 1',\n",
       "       'BsmtFin Type 2', 'BsmtFin SF 2', 'Bsmt Unf SF', 'Total Bsmt SF',\n",
       "       'Heating', 'Heating QC', 'Central Air', 'Electrical', '1st Flr SF',\n",
       "       '2nd Flr SF', 'Low Qual Fin SF', 'Gr Liv Area', 'Bsmt Full Bath',\n",
       "       'Bsmt Half Bath', 'Full Bath', 'Half Bath', 'Bedroom AbvGr',\n",
       "       'Kitchen AbvGr', 'Kitchen Qual', 'TotRms AbvGrd', 'Functional',\n",
       "       'Fireplaces', 'Fireplace Qu', 'Garage Type', 'Garage Yr Blt',\n",
       "       'Garage Finish', 'Garage Cars', 'Garage Area', 'Garage Qual',\n",
       "       'Garage Cond', 'Paved Drive', 'Wood Deck SF', 'Open Porch SF',\n",
       "       'Enclosed Porch', '3Ssn Porch', 'Screen Porch', 'Pool Area', 'Pool QC',\n",
       "       'Fence', 'Misc Feature', 'Misc Val', 'Mo Sold', 'Yr Sold', 'Sale Type',\n",
       "       'Sale Condition', 'SalePrice'],\n",
       "      dtype='object')"
      ]
     },
     "execution_count": 7,
     "metadata": {},
     "output_type": "execute_result"
    }
   ],
   "source": [
    "Housing.columns"
   ]
  },
  {
   "cell_type": "markdown",
   "metadata": {},
   "source": [
    "Let's look at the columns that are remaining and see what new features we can create. We can look at the difference between the remodeling year and the sale year, and the year the house was built and the year it was sold."
   ]
  },
  {
   "cell_type": "code",
   "execution_count": 8,
   "metadata": {
    "collapsed": false
   },
   "outputs": [
    {
     "name": "stdout",
     "output_type": "stream",
     "text": [
      "1702   -1\n",
      "2180   -2\n",
      "2181   -1\n",
      "dtype: int64\n",
      "2180   -1\n",
      "dtype: int64\n"
     ]
    }
   ],
   "source": [
    "yrs_since_remodel = Housing['Yr Sold'] - Housing['Year Remod/Add']\n",
    "house_age = Housing['Yr Sold'] - Housing['Year Built']\n",
    "\n",
    "#check for negative values for years since remodel and the house age\n",
    "print(yrs_since_remodel[yrs_since_remodel < 0])\n",
    "print(house_age[house_age < 0])"
   ]
  },
  {
   "cell_type": "markdown",
   "metadata": {},
   "source": [
    "We will delete the negative values for the years since the remodel and the age of the house."
   ]
  },
  {
   "cell_type": "code",
   "execution_count": 9,
   "metadata": {
    "collapsed": false
   },
   "outputs": [],
   "source": [
    "#1. Create new columns\n",
    "Housing['Years Since Remodel'] = yrs_since_remodel\n",
    "Housing['House Age'] = house_age\n",
    "\n",
    "#2. Drop negative values from the dataframe\n",
    "Housing = Housing.drop([1702, 2180, 2181], axis=0)\n",
    "\n",
    "#3. Delete original year columns from dataframe since no longer needed\n",
    "Housing = Housing.drop(['Year Remod/Add', 'Year Built'], axis=1)"
   ]
  },
  {
   "cell_type": "markdown",
   "metadata": {},
   "source": [
    "Now we will remove features we do not want in our model such as those with leak information about the house sale (i.e. 'Yr Sold')."
   ]
  },
  {
   "cell_type": "code",
   "execution_count": 10,
   "metadata": {
    "collapsed": false
   },
   "outputs": [
    {
     "data": {
      "text/plain": [
       "Index(['Order', 'PID', 'MS SubClass', 'MS Zoning', 'Lot Frontage', 'Lot Area',\n",
       "       'Street', 'Alley', 'Lot Shape', 'Land Contour', 'Utilities',\n",
       "       'Lot Config', 'Land Slope', 'Neighborhood', 'Condition 1',\n",
       "       'Condition 2', 'Bldg Type', 'House Style', 'Overall Qual',\n",
       "       'Overall Cond', 'Roof Style', 'Roof Matl', 'Exterior 1st',\n",
       "       'Exterior 2nd', 'Mas Vnr Type', 'Mas Vnr Area', 'Exter Qual',\n",
       "       'Exter Cond', 'Foundation', 'Bsmt Qual', 'Bsmt Cond', 'Bsmt Exposure',\n",
       "       'BsmtFin Type 1', 'BsmtFin SF 1', 'BsmtFin Type 2', 'BsmtFin SF 2',\n",
       "       'Bsmt Unf SF', 'Total Bsmt SF', 'Heating', 'Heating QC', 'Central Air',\n",
       "       'Electrical', '1st Flr SF', '2nd Flr SF', 'Low Qual Fin SF',\n",
       "       'Gr Liv Area', 'Bsmt Full Bath', 'Bsmt Half Bath', 'Full Bath',\n",
       "       'Half Bath', 'Bedroom AbvGr', 'Kitchen AbvGr', 'Kitchen Qual',\n",
       "       'TotRms AbvGrd', 'Functional', 'Fireplaces', 'Fireplace Qu',\n",
       "       'Garage Type', 'Garage Yr Blt', 'Garage Finish', 'Garage Cars',\n",
       "       'Garage Area', 'Garage Qual', 'Garage Cond', 'Paved Drive',\n",
       "       'Wood Deck SF', 'Open Porch SF', 'Enclosed Porch', '3Ssn Porch',\n",
       "       'Screen Porch', 'Pool Area', 'Pool QC', 'Fence', 'Misc Feature',\n",
       "       'Misc Val', 'SalePrice', 'Years Since Remodel', 'House Age'],\n",
       "      dtype='object')"
      ]
     },
     "execution_count": 10,
     "metadata": {},
     "output_type": "execute_result"
    }
   ],
   "source": [
    "drop_cols = ['Mo Sold', 'Yr Sold', 'Sale Type', 'Sale Condition']\n",
    "\n",
    "house = Housing[Housing.columns.drop(drop_cols)]\n",
    "house.columns"
   ]
  },
  {
   "cell_type": "markdown",
   "metadata": {},
   "source": [
    "Garage Cond and Garage Qual are redundant. Misc Feature and Misc Val are not useful for machine learning. Thus we will drop Garage Cond, Misc Feature, and Misc Val."
   ]
  },
  {
   "cell_type": "code",
   "execution_count": 11,
   "metadata": {
    "collapsed": false
   },
   "outputs": [
    {
     "data": {
      "text/plain": [
       "Index(['Order', 'PID', 'MS SubClass', 'MS Zoning', 'Lot Frontage', 'Lot Area',\n",
       "       'Street', 'Alley', 'Lot Shape', 'Land Contour', 'Utilities',\n",
       "       'Lot Config', 'Land Slope', 'Neighborhood', 'Condition 1',\n",
       "       'Condition 2', 'Bldg Type', 'House Style', 'Overall Qual',\n",
       "       'Overall Cond', 'Roof Style', 'Roof Matl', 'Exterior 1st',\n",
       "       'Exterior 2nd', 'Mas Vnr Type', 'Mas Vnr Area', 'Exter Qual',\n",
       "       'Exter Cond', 'Foundation', 'Bsmt Qual', 'Bsmt Cond', 'Bsmt Exposure',\n",
       "       'BsmtFin Type 1', 'BsmtFin SF 1', 'BsmtFin Type 2', 'BsmtFin SF 2',\n",
       "       'Bsmt Unf SF', 'Total Bsmt SF', 'Heating', 'Heating QC', 'Central Air',\n",
       "       'Electrical', '1st Flr SF', '2nd Flr SF', 'Low Qual Fin SF',\n",
       "       'Gr Liv Area', 'Bsmt Full Bath', 'Bsmt Half Bath', 'Full Bath',\n",
       "       'Half Bath', 'Bedroom AbvGr', 'Kitchen AbvGr', 'Kitchen Qual',\n",
       "       'TotRms AbvGrd', 'Functional', 'Fireplaces', 'Fireplace Qu',\n",
       "       'Garage Type', 'Garage Yr Blt', 'Garage Finish', 'Garage Cars',\n",
       "       'Garage Area', 'Garage Qual', 'Paved Drive', 'Wood Deck SF',\n",
       "       'Open Porch SF', 'Enclosed Porch', '3Ssn Porch', 'Screen Porch',\n",
       "       'Pool Area', 'Pool QC', 'Fence', 'SalePrice', 'Years Since Remodel',\n",
       "       'House Age'],\n",
       "      dtype='object')"
      ]
     },
     "execution_count": 11,
     "metadata": {},
     "output_type": "execute_result"
    }
   ],
   "source": [
    "house = house.drop(['Garage Cond', 'Misc Feature', 'Misc Val'], axis=1)\n",
    "house.columns"
   ]
  },
  {
   "cell_type": "markdown",
   "metadata": {
    "collapsed": true
   },
   "source": [
    "In order to visually see the correlation between numerical features we will generate a heatmap matrix. we will assume a correlation above 0.3 is a strong one."
   ]
  },
  {
   "cell_type": "code",
   "execution_count": 12,
   "metadata": {
    "collapsed": false
   },
   "outputs": [
    {
     "data": {
      "text/plain": [
       "BsmtFin SF 2           0.006001\n",
       "Order                  0.031542\n",
       "3Ssn Porch             0.032268\n",
       "Bsmt Half Bath         0.035894\n",
       "Low Qual Fin SF        0.037629\n",
       "Pool Area              0.068438\n",
       "MS SubClass            0.085128\n",
       "Overall Cond           0.101540\n",
       "Screen Porch           0.112280\n",
       "Kitchen AbvGr          0.119760\n",
       "Enclosed Porch         0.128685\n",
       "Bedroom AbvGr          0.143916\n",
       "Bsmt Unf SF            0.182299\n",
       "PID                    0.246389\n",
       "Lot Area               0.267520\n",
       "2nd Flr SF             0.269601\n",
       "Bsmt Full Bath         0.276486\n",
       "Half Bath              0.284871\n",
       "Open Porch SF          0.316262\n",
       "Wood Deck SF           0.328183\n",
       "Lot Frontage           0.357718\n",
       "BsmtFin SF 1           0.439051\n",
       "Fireplaces             0.474831\n",
       "TotRms AbvGrd          0.498574\n",
       "Mas Vnr Area           0.513121\n",
       "Garage Yr Blt          0.527047\n",
       "Years Since Remodel    0.534985\n",
       "Full Bath              0.546118\n",
       "House Age              0.558979\n",
       "1st Flr SF             0.635185\n",
       "Garage Area            0.641690\n",
       "Total Bsmt SF          0.643782\n",
       "Garage Cars            0.648427\n",
       "Gr Liv Area            0.717596\n",
       "Overall Qual           0.801206\n",
       "SalePrice              1.000000\n",
       "Name: SalePrice, dtype: float64"
      ]
     },
     "execution_count": 12,
     "metadata": {},
     "output_type": "execute_result"
    }
   ],
   "source": [
    "import seaborn as sns\n",
    "\n",
    "correlation_matrix = house.corr()\n",
    "sorted_corrs = correlation_matrix['SalePrice'].abs().sort_values(ascending=True)\n",
    "sorted_corrs"
   ]
  },
  {
   "cell_type": "markdown",
   "metadata": {},
   "source": [
    "We will consider strong correlations as those of 0.3 and higher."
   ]
  },
  {
   "cell_type": "code",
   "execution_count": 13,
   "metadata": {
    "collapsed": false
   },
   "outputs": [
    {
     "data": {
      "text/plain": [
       "<matplotlib.figure.Figure at 0x7f0956e10b00>"
      ]
     },
     "metadata": {},
     "output_type": "display_data"
    },
    {
     "name": "stderr",
     "output_type": "stream",
     "text": [
      "/dataquest/system/env/python3/lib/python3.4/site-packages/plotly/matplotlylib/renderer.py:451: UserWarning:\n",
      "\n",
      "Dang! That path collection is out of this world. I totally don't know what to do with it yet! Plotly can only import path collections linked to 'data' coordinates\n",
      "\n"
     ]
    }
   ],
   "source": [
    "strong_corrs = sorted_corrs[sorted_corrs > 0.3]\n",
    "corrmat = house[strong_corrs.index].corr()\n",
    "sns.heatmap(corrmat)\n",
    "plt.show()"
   ]
  },
  {
   "cell_type": "code",
   "execution_count": 14,
   "metadata": {
    "collapsed": false,
    "scrolled": true
   },
   "outputs": [
    {
     "data": {
      "text/plain": [
       "Open Porch SF          0.316262\n",
       "Wood Deck SF           0.328183\n",
       "Lot Frontage           0.357718\n",
       "BsmtFin SF 1           0.439051\n",
       "Fireplaces             0.474831\n",
       "TotRms AbvGrd          0.498574\n",
       "Mas Vnr Area           0.513121\n",
       "Garage Yr Blt          0.527047\n",
       "Years Since Remodel    0.534985\n",
       "Full Bath              0.546118\n",
       "House Age              0.558979\n",
       "1st Flr SF             0.635185\n",
       "Garage Area            0.641690\n",
       "Total Bsmt SF          0.643782\n",
       "Garage Cars            0.648427\n",
       "Gr Liv Area            0.717596\n",
       "Overall Qual           0.801206\n",
       "SalePrice              1.000000\n",
       "Name: SalePrice, dtype: float64"
      ]
     },
     "execution_count": 14,
     "metadata": {},
     "output_type": "execute_result"
    }
   ],
   "source": [
    "strong_corrs"
   ]
  },
  {
   "cell_type": "markdown",
   "metadata": {},
   "source": [
    "The following columns are categorical: BsmtFin SF 1, Garage Yr Blt, and Garage Cars. Let's compute the variance for the columns in our dataframe and see which features have low variance."
   ]
  },
  {
   "cell_type": "code",
   "execution_count": 15,
   "metadata": {
    "collapsed": false
   },
   "outputs": [
    {
     "name": "stdout",
     "output_type": "stream",
     "text": [
      "Kitchen AbvGr          4.587361e-02\n",
      "Bsmt Half Bath         5.990693e-02\n",
      "Half Bath              2.525001e-01\n",
      "Bsmt Full Bath         2.754340e-01\n",
      "Full Bath              3.052255e-01\n",
      "Fireplaces             4.194511e-01\n",
      "Garage Cars            5.779952e-01\n",
      "Bedroom AbvGr          6.855773e-01\n",
      "Overall Cond           1.236455e+00\n",
      "Overall Qual           1.981361e+00\n",
      "TotRms AbvGrd          2.444504e+00\n",
      "Years Since Remodel    4.349031e+02\n",
      "Lot Frontage           5.419487e+02\n",
      "3Ssn Porch             6.327277e+02\n",
      "Garage Yr Blt          6.514806e+02\n",
      "House Age              9.171194e+02\n",
      "Pool Area              1.268453e+03\n",
      "MS SubClass            1.819383e+03\n",
      "Low Qual Fin SF        2.146840e+03\n",
      "Screen Porch           3.148756e+03\n",
      "Enclosed Porch         4.117493e+03\n",
      "Open Porch SF          4.414411e+03\n",
      "Wood Deck SF           1.590622e+04\n",
      "BsmtFin SF 2           2.864479e+04\n",
      "Mas Vnr Area           3.152674e+04\n",
      "Garage Area            4.605354e+04\n",
      "1st Flr SF             1.470394e+05\n",
      "2nd Flr SF             1.831594e+05\n",
      "Total Bsmt SF          1.871618e+05\n",
      "Bsmt Unf SF            1.928660e+05\n",
      "BsmtFin SF 1           2.022261e+05\n",
      "Gr Liv Area            2.477836e+05\n",
      "Order                  7.160162e+05\n",
      "Lot Area               6.154662e+07\n",
      "SalePrice              6.386267e+09\n",
      "PID                    3.561834e+16\n",
      "dtype: float64\n"
     ]
    }
   ],
   "source": [
    "print(house.var().sort_values(ascending=True))"
   ]
  },
  {
   "cell_type": "markdown",
   "metadata": {},
   "source": [
    "The columns with the lowest variances are Kitchen AbvGr and Bsmt Half Bath so we'll drop these columns as well. We'll also drop PID as it has a very high variance."
   ]
  },
  {
   "cell_type": "code",
   "execution_count": 16,
   "metadata": {
    "collapsed": false
   },
   "outputs": [],
   "source": [
    "house = house.drop(['Kitchen AbvGr', 'Bsmt Half Bath', 'PID'], axis =1)"
   ]
  },
  {
   "cell_type": "markdown",
   "metadata": {},
   "source": [
    "Now let's update the select_features() function. It will take in the new, modified train and test data frames that were returned from transform_features()."
   ]
  },
  {
   "cell_type": "code",
   "execution_count": 17,
   "metadata": {
    "collapsed": false
   },
   "outputs": [
    {
     "data": {
      "text/plain": [
       "55275.36731241307"
      ]
     },
     "execution_count": 17,
     "metadata": {},
     "output_type": "execute_result"
    }
   ],
   "source": [
    "def transform_features(Housing):\n",
    "    #count and drop columns with more than 5% missing values\n",
    "    house_null_counts = Housing.isnull().sum()\n",
    "    drop_null_house = house_null_counts[(house_null_counts > len(Housing)/20) & (house_null_counts > 0)].sort_values(ascending=True)\n",
    "    \n",
    "    #fill in column mode for columns with less than 5% missing values\n",
    "    drop_null_house = drop_null_house.fillna(drop_null_house.mode)\n",
    "    \n",
    "    #create new, informative features\n",
    "    yrs_since_remodel = Housing['Yr Sold'] - Housing['Year Remod/Add']\n",
    "    house_age = Housing['Yr Sold'] - Housing['Year Built']\n",
    "    \n",
    "    #1. Create new columns for the new features\n",
    "    Housing['Years Since Remodel'] = yrs_since_remodel\n",
    "    Housing['House Age'] = house_age\n",
    "\n",
    "    #2. Drop negative values from the dataframe\n",
    "    Housing = Housing.drop([1702, 2180, 2181], axis=0)\n",
    "\n",
    "    #3. Delete original year columns from dataframe since no longer needed\n",
    "    Housing = Housing.drop(['Year Remod/Add', 'Year Built'], axis=1)    \n",
    "    \n",
    "    #remove columns that leak information aboutthe target column\n",
    "    drop_cols = ['Mo Sold', 'Yr Sold', 'Sale Type', 'Sale Condition']\n",
    "    Housing = Housing[Housing.columns.drop(drop_cols)]\n",
    "\n",
    "    return Housing\n",
    "\n",
    "def select_features(Housing):\n",
    "    \n",
    "    return Housing[['Gr Liv Area', 'SalePrice']]\n",
    "\n",
    "def train_and_test(Housing):\n",
    "    train = Housing[:1460]\n",
    "    test = Housing[1460:]\n",
    "    num_train = train.select_dtypes(include=['float', 'int'])\n",
    "    num_test = test.select_dtypes(include=['float', 'int'])\n",
    "    target = 'SalePrice'\n",
    "    features = num_train.columns.drop([target])\n",
    "\n",
    "    model = linear_model.LinearRegression()\n",
    "    model.fit(num_train[features], num_train[target])\n",
    "\n",
    "    predictions = model.predict(test[features])\n",
    "    mse = mean_squared_error(predictions, test[target])\n",
    "    rmse = np.sqrt(mse)\n",
    "    return rmse\n",
    "\n",
    "Housing = pd.read_csv('AmesHousing.tsv', sep='\\t')    \n",
    "transformed_df = transform_features(Housing)\n",
    "filtered_df = select_features(transformed_df)\n",
    "rmse = train_and_test(filtered_df)\n",
    "rmse"
   ]
  },
  {
   "cell_type": "code",
   "execution_count": 20,
   "metadata": {
    "collapsed": false
   },
   "outputs": [],
   "source": [
    "def train_and_test(Housing, model, k=0):\n",
    "    num_df = Housing.select_dtypes(include=['float', 'int'])\n",
    "    target = 'SalePrice'\n",
    "    features = num_df.columns.drop([target])\n",
    "    #model = linear_model.LinearRegression()\n",
    "    #model = ensemble.Rand\n",
    "    if k == 0:\n",
    "        train = Housing[:1460]\n",
    "        test = Housing[1460:]\n",
    "        model.fit(train_one[[features]], train[target])\n",
    "        predictions = model.predict(test[features])\n",
    "        mse = mean_squared_error(test[target], predictions)\n",
    "        rmse = np.sqrt(mse)\n",
    "    elif k == 1:\n",
    "        shuffled_df = Housing.sample(frac=1, )\n",
    "        fold_one = Housing[:1460]\n",
    "        fold_two = Housing[1460:]\n",
    "        model.fit(fold_one[[features]], fold_one[target])\n",
    "        predictions = model.predict(fold_two[[features]])\n",
    "        mse_one = mean_squared_error(fold_two[target], predictions)\n",
    "        rmse_one = sqrt(mse)\n",
    "    \n",
    "        model.fit(fold_two[[features]], fold_two[target])\n",
    "        predictions = model.predict(fold_one[[features]])\n",
    "        mse_two = mean_squared_error(fold_one[target], predictions)\n",
    "        rmse_two = sqrt(mse)\n",
    "        rmse = np.mean(rmse_one, rmse_two)\n",
    "    else:\n",
    "        kf = KFold(n_splits=k, shuffle=True)\n",
    "        rmses = []\n",
    "        for train_index, test_index in kf.split(Housing):\n",
    "            train = Housing.iloc[train_index]\n",
    "            test = Housing.iloc[test_index]\n",
    "            model.fit(train[features], train[target])\n",
    "            predictions = model.predict(test[features])\n",
    "            mse_k = mean_squared_error(test[target], predictions)\n",
    "            rmse_k = np.sqrt(mse_k)\n",
    "            rmses.append(rmse_k)\n",
    "    rmse = np.mean(rmses)\n",
    "    print(rmses)\n",
    "    var_k = np.std(rmses)        \n",
    "    return rmse, var_k\n",
    "\n",
    "# Housing = pd.read_csv('AmesHousing.tsv', sep='\\t')    \n",
    "# transformed_df = transform_features(Housing)\n",
    "# filtered_df = select_features(transformed_df)\n",
    "# rmse = train_and_test(filtered_df, model, k=4)\n",
    "# rmse"
   ]
  },
  {
   "cell_type": "code",
   "execution_count": 21,
   "metadata": {
    "collapsed": false
   },
   "outputs": [
    {
     "name": "stdout",
     "output_type": "stream",
     "text": [
      "[54064.574945277534, 53936.48131965016, 58755.24514756473, 55851.5200363056]\n",
      "[64962.564046149506, 61444.28824869027, 69278.05018096384, 69108.16983504481]\n",
      "[53516.78077096286, 56281.838611129475, 56249.19304338287, 57030.99951796036]\n",
      "[55131.62457096905, 57218.85439521964, 56248.4839438361, 54477.66290174242]\n"
     ]
    },
    {
     "data": {
      "text/plain": [
       "{'lasso': (55769.1564529418, 1049.497672781238),\n",
       " 'linear_reg': (55769.702985858894, 1337.7893203153155),\n",
       " 'random forest': (66198.26807771211, 3243.450119440879),\n",
       " 'ridge': (55651.95536219951, 1945.0489280344084)}"
      ]
     },
     "execution_count": 21,
     "metadata": {},
     "output_type": "execute_result"
    }
   ],
   "source": [
    "Housing = pd.read_csv('AmesHousing.tsv', sep='\\t')    \n",
    "transformed_df = transform_features(Housing)\n",
    "filtered_df = select_features(transformed_df)\n",
    "lr = LinearRegression()\n",
    "rf = RandomForestRegressor()\n",
    "ls = linear_model.LassoCV()\n",
    "ri = linear_model.Ridge(alpha=0.1)\n",
    "models = {'linear_reg': lr, 'random forest': rf, 'lasso': ls, 'ridge': ri}\n",
    "model_results = {}\n",
    "\n",
    "for name, model in models.items():\n",
    "    rmse = train_and_test(filtered_df, model, k=4)\n",
    "    model_results[name] = rmse\n",
    "model_results"
   ]
  },
  {
   "cell_type": "markdown",
   "metadata": {},
   "source": [
    "Lasso is the best model: low average rmse and lowest variation."
   ]
  },
  {
   "cell_type": "code",
   "execution_count": null,
   "metadata": {
    "collapsed": true
   },
   "outputs": [],
   "source": []
  }
 ],
 "metadata": {
  "anaconda-cloud": {},
  "kernelspec": {
   "display_name": "Python 3",
   "language": "python",
   "name": "python3"
  },
  "language_info": {
   "codemirror_mode": {
    "name": "ipython",
    "version": 3
   },
   "file_extension": ".py",
   "mimetype": "text/x-python",
   "name": "python",
   "nbconvert_exporter": "python",
   "pygments_lexer": "ipython3",
   "version": "3.4.3"
  }
 },
 "nbformat": 4,
 "nbformat_minor": 2
}
